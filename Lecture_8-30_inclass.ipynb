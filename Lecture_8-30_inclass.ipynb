{
 "cells": [
  {
   "cell_type": "code",
   "execution_count": null,
   "id": "acb8e585",
   "metadata": {},
   "outputs": [],
   "source": [
    "use arrow keys to naviagte in cell"
   ]
  },
  {
   "cell_type": "code",
   "execution_count": null,
   "id": "5506bff3",
   "metadata": {},
   "outputs": [],
   "source": [
    "a for above cell"
   ]
  },
  {
   "cell_type": "code",
   "execution_count": null,
   "id": "496221f2",
   "metadata": {},
   "outputs": [],
   "source": [
    "b for below cell"
   ]
  },
  {
   "cell_type": "code",
   "execution_count": null,
   "id": "e6c0f4ed",
   "metadata": {},
   "outputs": [],
   "source": [
    "m for markdown, y for code"
   ]
  },
  {
   "cell_type": "code",
   "execution_count": null,
   "id": "05c93471",
   "metadata": {},
   "outputs": [],
   "source": [
    "dd to delete multiple cells"
   ]
  }
 ],
 "metadata": {
  "kernelspec": {
   "display_name": "Python 3 (ipykernel)",
   "language": "python",
   "name": "python3"
  },
  "language_info": {
   "codemirror_mode": {
    "name": "ipython",
    "version": 3
   },
   "file_extension": ".py",
   "mimetype": "text/x-python",
   "name": "python",
   "nbconvert_exporter": "python",
   "pygments_lexer": "ipython3",
   "version": "3.9.12"
  }
 },
 "nbformat": 4,
 "nbformat_minor": 5
}
